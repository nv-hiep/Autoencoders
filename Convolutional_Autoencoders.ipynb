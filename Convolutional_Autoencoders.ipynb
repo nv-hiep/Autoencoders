{
  "nbformat": 4,
  "nbformat_minor": 0,
  "metadata": {
    "colab": {
      "name": "Convolutional_Autoencoders.ipynb",
      "provenance": [],
      "collapsed_sections": [],
      "authorship_tag": "ABX9TyMzCyWVgzHWQG8RFSrmprRI",
      "include_colab_link": true
    },
    "kernelspec": {
      "name": "python3",
      "display_name": "Python 3"
    },
    "language_info": {
      "name": "python"
    },
    "accelerator": "GPU"
  },
  "cells": [
    {
      "cell_type": "markdown",
      "metadata": {
        "id": "view-in-github",
        "colab_type": "text"
      },
      "source": [
        "<a href=\"https://colab.research.google.com/github/nv-hiep/Autoencoders/blob/main/Convolutional_Autoencoders.ipynb\" target=\"_parent\"><img src=\"https://colab.research.google.com/assets/colab-badge.svg\" alt=\"Open In Colab\"/></a>"
      ]
    },
    {
      "cell_type": "code",
      "metadata": {
        "id": "iETpoKTkId7D"
      },
      "source": [
        "# Python ≥3.5 is required\n",
        "import sys\n",
        "assert sys.version_info >= (3, 5)\n",
        "\n",
        "# Is this notebook running on Colab or Kaggle?\n",
        "IS_COLAB = \"google.colab\" in sys.modules\n",
        "IS_KAGGLE = \"kaggle_secrets\" in sys.modules\n",
        "\n",
        "# Scikit-Learn ≥0.20 is required\n",
        "import sklearn\n",
        "assert sklearn.__version__ >= \"0.20\"\n",
        "\n",
        "# TensorFlow ≥2.0 is required\n",
        "import tensorflow as tf\n",
        "from tensorflow import keras\n",
        "assert tf.__version__ >= \"2.0\"\n",
        "\n",
        "if not tf.config.list_physical_devices('GPU'):\n",
        "    print(\"No GPU was detected. LSTMs and CNNs can be very slow without a GPU.\")\n",
        "    if IS_COLAB:\n",
        "        print(\"Go to Runtime > Change runtime and select a GPU hardware accelerator.\")\n",
        "    if IS_KAGGLE:\n",
        "        print(\"Go to Settings > Accelerator and select GPU.\")\n",
        "\n",
        "# Common imports\n",
        "import numpy as np\n",
        "import os\n",
        "\n",
        "# to make this notebook's output stable across runs\n",
        "np.random.seed(42)\n",
        "tf.random.set_seed(42)\n",
        "\n",
        "# To plot pretty figures\n",
        "%matplotlib inline\n",
        "import matplotlib as mpl\n",
        "import matplotlib.pyplot as plt\n",
        "from mpl_toolkits.mplot3d import Axes3D\n",
        "\n",
        "mpl.rc('axes', labelsize=14)\n",
        "mpl.rc('xtick', labelsize=12)\n",
        "mpl.rc('ytick', labelsize=12)"
      ],
      "execution_count": null,
      "outputs": []
    },
    {
      "cell_type": "code",
      "metadata": {
        "id": "aKDujrveSYik"
      },
      "source": [
        "from keras.models import Sequential, Model\n",
        "from keras.layers import Flatten, Dense, Reshape, Input\n",
        "from keras.optimizers import SGD\n",
        "from keras.layers import Conv2D, MaxPool2D, Conv2DTranspose, Dropout, ActivityRegularization\n",
        "from keras.layers import LSTM, RepeatVector, TimeDistributed, GaussianNoise"
      ],
      "execution_count": null,
      "outputs": []
    },
    {
      "cell_type": "code",
      "metadata": {
        "id": "VGuMNV-4JX5y"
      },
      "source": [
        "def plot_image(image):\n",
        "    plt.imshow(image, cmap='binary')\n",
        "    # plt.axis('off')"
      ],
      "execution_count": null,
      "outputs": []
    },
    {
      "cell_type": "markdown",
      "metadata": {
        "id": "ykZZwOPOJeBY"
      },
      "source": [
        "# Data"
      ]
    },
    {
      "cell_type": "code",
      "metadata": {
        "id": "FPDbuIxMUo8o",
        "colab": {
          "base_uri": "https://localhost:8080/"
        },
        "outputId": "be4dc3e4-ab68-49c9-8972-d531696bc87d"
      },
      "source": [
        "(X_train_full, y_train_full), (X_test, y_test) = keras.datasets.fashion_mnist.load_data()"
      ],
      "execution_count": null,
      "outputs": [
        {
          "output_type": "stream",
          "text": [
            "Downloading data from https://storage.googleapis.com/tensorflow/tf-keras-datasets/train-labels-idx1-ubyte.gz\n",
            "32768/29515 [=================================] - 0s 0us/step\n",
            "Downloading data from https://storage.googleapis.com/tensorflow/tf-keras-datasets/train-images-idx3-ubyte.gz\n",
            "26427392/26421880 [==============================] - 0s 0us/step\n",
            "Downloading data from https://storage.googleapis.com/tensorflow/tf-keras-datasets/t10k-labels-idx1-ubyte.gz\n",
            "8192/5148 [===============================================] - 0s 0us/step\n",
            "Downloading data from https://storage.googleapis.com/tensorflow/tf-keras-datasets/t10k-images-idx3-ubyte.gz\n",
            "4423680/4422102 [==============================] - 0s 0us/step\n"
          ],
          "name": "stdout"
        }
      ]
    },
    {
      "cell_type": "code",
      "metadata": {
        "id": "Y1JnhrR6WdXy"
      },
      "source": [
        "X_train_full = X_train_full / 255.\n",
        "X_test       = X_test / 255."
      ],
      "execution_count": null,
      "outputs": []
    },
    {
      "cell_type": "code",
      "metadata": {
        "colab": {
          "base_uri": "https://localhost:8080/"
        },
        "id": "BtYhmj_4U2oG",
        "outputId": "4af94d65-eb10-4c29-fbe2-58538f07c51c"
      },
      "source": [
        "print('X_train_full.shape: ', X_train_full.shape)\n",
        "print('y_train_full.shape: ', y_train_full.shape)\n",
        "print('X_test.shape: ', X_test.shape)\n",
        "print('y_test.shape: ', y_test.shape)"
      ],
      "execution_count": null,
      "outputs": [
        {
          "output_type": "stream",
          "text": [
            "X_train_full.shape:  (60000, 28, 28)\n",
            "y_train_full.shape:  (60000,)\n",
            "X_test.shape:  (10000, 28, 28)\n",
            "y_test.shape:  (10000,)\n"
          ],
          "name": "stdout"
        }
      ]
    },
    {
      "cell_type": "code",
      "metadata": {
        "id": "VOBzQwmIU0EN"
      },
      "source": [
        "train_size = 50_000"
      ],
      "execution_count": null,
      "outputs": []
    },
    {
      "cell_type": "code",
      "metadata": {
        "colab": {
          "base_uri": "https://localhost:8080/"
        },
        "id": "OFAHqEoCVbta",
        "outputId": "8ff04d8b-614b-4459-f1c8-3f80261fe429"
      },
      "source": [
        "X_train = X_train_full[:train_size]\n",
        "X_valid = X_train_full[train_size:]\n",
        "\n",
        "y_train = y_train_full[:train_size]\n",
        "y_valid = y_train_full[train_size:]\n",
        "\n",
        "print('X_train.shape: ', X_train.shape)\n",
        "print('y_train.shape: ', y_train.shape)\n",
        "print('X_valid.shape: ', X_valid.shape)\n",
        "print('y_valid.shape: ', y_valid.shape)"
      ],
      "execution_count": null,
      "outputs": [
        {
          "output_type": "stream",
          "text": [
            "X_train.shape:  (50000, 28, 28)\n",
            "y_train.shape:  (50000,)\n",
            "X_valid.shape:  (10000, 28, 28)\n",
            "y_valid.shape:  (10000,)\n"
          ],
          "name": "stdout"
        }
      ]
    },
    {
      "cell_type": "code",
      "metadata": {
        "id": "Lo3jDW83cJbd"
      },
      "source": [
        "def show_reconstructions(model, images=X_test, n_images=5):\n",
        "  '''\n",
        "  First row: real images\n",
        "  Second row: reconstructed images\n",
        "  '''\n",
        "  reconstructions = model.predict(images[:n_images])\n",
        "\n",
        "  plt.figure(figsize=(n_images * 1.5, 3))\n",
        "  for img_id in range(n_images):\n",
        "    plt.subplot(2, n_images, 1 + img_id)\n",
        "    plot_image(images[img_id])\n",
        "    plt.subplot(2, n_images, 1 + n_images + img_id)\n",
        "    plot_image(reconstructions[img_id])\n",
        "  plt.show()"
      ],
      "execution_count": null,
      "outputs": []
    },
    {
      "cell_type": "markdown",
      "metadata": {
        "id": "jVgamkVhetf3"
      },
      "source": [
        "# Convolutional Autoencoders"
      ]
    },
    {
      "cell_type": "markdown",
      "metadata": {
        "id": "6bH5JlIKfzvJ"
      },
      "source": [
        "If you are dealing with images, then the autoencoders we have seen so far will not work well (unless the images are very small): Convolutional neural networks are far better suited than dense networks to work with images. So if you want to build an autoencoder for images (e.g., for unsupervised pretraining or dimensionality reduction), you will need to build a convolutional autoencoder.\n",
        "\n",
        "The encoder is a regular CNN composed of convolutional layers and pooling layers. It typically reduces the spatial dimensionality of the inputs (i.e., height and width) while increasing the depth (i.e., the number of feature maps). The decoder must do the reverse (upscale the image and reduce its depth back to the original dimensions), and for this you can use transpose convolutional layers (alternatively, you could combine upsampling layers with convolutional layers).\n",
        "\n",
        "Here is a simple convolutional autoencoder for Fashion MNIST:"
      ]
    },
    {
      "cell_type": "code",
      "metadata": {
        "id": "hnAHiEUif_g5"
      },
      "source": [
        "tf.random.set_seed(42)\n",
        "np.random.seed(42)\n",
        "\n",
        "conv_encoder = Sequential()\n",
        "conv_encoder.add( Reshape([28,28,1], input_shape=[28,28] ) )\n",
        "conv_encoder.add( Conv2D(16, kernel_size=3, padding='same', activation='selu') )\n",
        "conv_encoder.add( MaxPool2D(pool_size=2) )\n",
        "conv_encoder.add( Conv2D(32, kernel_size=3, padding='same', activation='selu') )\n",
        "conv_encoder.add( MaxPool2D(pool_size=2) )\n",
        "conv_encoder.add( Conv2D(64, kernel_size=3, padding='same', activation='selu') )\n",
        "conv_encoder.add( MaxPool2D(pool_size=2) )\n",
        "# 28x28 -> 26x26 -> 13x13 -> 11x11 -> 5x5 -> 3x3\n",
        "# Output shape: 3,3,64\n",
        "\n",
        "conv_decoder = Sequential()\n",
        "conv_decoder.add( Conv2DTranspose(32, kernel_size=3, strides=2, padding='valid', activation='selu', input_shape=[3,3,64]) )\n",
        "conv_decoder.add( Conv2DTranspose(16, kernel_size=3, strides=2, padding='same', activation='selu') )\n",
        "conv_decoder.add( Conv2DTranspose(1, kernel_size=3, strides=2, padding='same', activation='sigmoid') )\n",
        "conv_decoder.add( Reshape([28,28]) )\n",
        "\n",
        "conv_autoencoder = Sequential([conv_encoder, conv_decoder])\n",
        "\n",
        "conv_autoencoder.compile(loss='binary_crossentropy', optimizer=SGD(learning_rate=1.0), metrics=['binary_accuracy'])"
      ],
      "execution_count": null,
      "outputs": []
    },
    {
      "cell_type": "code",
      "metadata": {
        "colab": {
          "base_uri": "https://localhost:8080/"
        },
        "id": "KjoHFRUgijIU",
        "outputId": "f6f3e462-01ce-4f56-d22a-4ad5832b1cfe"
      },
      "source": [
        "history = conv_autoencoder.fit(X_train, X_train, epochs=5, validation_data=(X_valid, X_valid))"
      ],
      "execution_count": null,
      "outputs": [
        {
          "output_type": "stream",
          "text": [
            "Epoch 1/5\n",
            "1563/1563 [==============================] - 87s 5ms/step - loss: 0.3420 - binary_accuracy: 0.5035 - val_loss: 0.2806 - val_binary_accuracy: 0.5060\n",
            "Epoch 2/5\n",
            "1563/1563 [==============================] - 7s 5ms/step - loss: 0.2780 - binary_accuracy: 0.5094 - val_loss: 0.2753 - val_binary_accuracy: 0.5067\n",
            "Epoch 3/5\n",
            "1563/1563 [==============================] - 7s 4ms/step - loss: 0.2719 - binary_accuracy: 0.5100 - val_loss: 0.2710 - val_binary_accuracy: 0.5068\n",
            "Epoch 4/5\n",
            "1563/1563 [==============================] - 7s 5ms/step - loss: 0.2685 - binary_accuracy: 0.5106 - val_loss: 0.2712 - val_binary_accuracy: 0.5065\n",
            "Epoch 5/5\n",
            "1563/1563 [==============================] - 7s 5ms/step - loss: 0.2672 - binary_accuracy: 0.5096 - val_loss: 0.2700 - val_binary_accuracy: 0.5070\n"
          ],
          "name": "stdout"
        }
      ]
    },
    {
      "cell_type": "code",
      "metadata": {
        "colab": {
          "base_uri": "https://localhost:8080/",
          "height": 395
        },
        "id": "2xwdA9ZknSvZ",
        "outputId": "305882a1-b88d-4700-b079-1ab81b808c40"
      },
      "source": [
        "plt.figure(figsize=(6,6))\n",
        "plt.plot(history.history['loss'], label='Loss')\n",
        "plt.plot(history.history['val_loss'], label='Val loss')\n",
        "\n",
        "plt.plot(history.history['binary_accuracy'], label='binary_accuracy')\n",
        "plt.plot(history.history['val_binary_accuracy'], label='val_binary_accuracy')\n",
        "\n",
        "plt.xlabel('Epochs')\n",
        "plt.ylabel('Losses / Binary_accuracy')\n",
        "\n",
        "plt.legend()\n",
        "plt.show()"
      ],
      "execution_count": null,
      "outputs": [
        {
          "output_type": "display_data",
          "data": {
            "image/png": "[encoded data removed]",
            "text/plain": [
              "<Figure size 432x432 with 1 Axes>"
            ]
          },
          "metadata": {
            "tags": [],
            "needs_background": "light"
          }
        }
      ]
    },
    {
      "cell_type": "code",
      "metadata": {
        "colab": {
          "base_uri": "https://localhost:8080/"
        },
        "id": "76Pakw-Ej3vS",
        "outputId": "ec6975a0-08ab-4c7f-a94d-ab504d94267c"
      },
      "source": [
        "# Convolutional Encoder\n",
        "conv_encoder.summary()"
      ],
      "execution_count": null,
      "outputs": [
        {
          "output_type": "stream",
          "text": [
            "Model: \"sequential_22\"\n",
            "_________________________________________________________________\n",
            "Layer (type)                 Output Shape              Param #   \n",
            "=================================================================\n",
            "reshape_7 (Reshape)          (None, 28, 28, 1)         0         \n",
            "_________________________________________________________________\n",
            "conv2d_9 (Conv2D)            (None, 28, 28, 16)        160       \n",
            "_________________________________________________________________\n",
            "max_pooling2d_9 (MaxPooling2 (None, 14, 14, 16)        0         \n",
            "_________________________________________________________________\n",
            "conv2d_10 (Conv2D)           (None, 14, 14, 32)        4640      \n",
            "_________________________________________________________________\n",
            "max_pooling2d_10 (MaxPooling (None, 7, 7, 32)          0         \n",
            "_________________________________________________________________\n",
            "conv2d_11 (Conv2D)           (None, 7, 7, 64)          18496     \n",
            "_________________________________________________________________\n",
            "max_pooling2d_11 (MaxPooling (None, 3, 3, 64)          0         \n",
            "=================================================================\n",
            "Total params: 23,296\n",
            "Trainable params: 23,296\n",
            "Non-trainable params: 0\n",
            "_________________________________________________________________\n"
          ],
          "name": "stdout"
        }
      ]
    },
    {
      "cell_type": "code",
      "metadata": {
        "colab": {
          "base_uri": "https://localhost:8080/"
        },
        "id": "BJZhVumij-43",
        "outputId": "d6b953ad-773b-4f1a-de0f-ed46b466d54f"
      },
      "source": [
        "# Convolutional Decoder\n",
        "conv_decoder.summary()"
      ],
      "execution_count": null,
      "outputs": [
        {
          "output_type": "stream",
          "text": [
            "Model: \"sequential_23\"\n",
            "_________________________________________________________________\n",
            "Layer (type)                 Output Shape              Param #   \n",
            "=================================================================\n",
            "conv2d_transpose_6 (Conv2DTr (None, 7, 7, 32)          18464     \n",
            "_________________________________________________________________\n",
            "conv2d_transpose_7 (Conv2DTr (None, 14, 14, 16)        4624      \n",
            "_________________________________________________________________\n",
            "conv2d_transpose_8 (Conv2DTr (None, 28, 28, 1)         145       \n",
            "_________________________________________________________________\n",
            "reshape_8 (Reshape)          (None, 28, 28)            0         \n",
            "=================================================================\n",
            "Total params: 23,233\n",
            "Trainable params: 23,233\n",
            "Non-trainable params: 0\n",
            "_________________________________________________________________\n"
          ],
          "name": "stdout"
        }
      ]
    },
    {
      "cell_type": "code",
      "metadata": {
        "colab": {
          "base_uri": "https://localhost:8080/",
          "height": 216
        },
        "id": "5Du6BEhykIzH",
        "outputId": "00cf9209-2f7e-4a9f-d6db-7f8d05cc8c26"
      },
      "source": [
        "# Plot the reconstructed images\n",
        "show_reconstructions(conv_autoencoder, images=X_test)\n",
        "plt.show()"
      ],
      "execution_count": null,
      "outputs": [
        {
          "output_type": "display_data",
          "data": {
            "image/png": "[encoded data removed]",
            "text/plain": [
              "<Figure size 540x216 with 10 Axes>"
            ]
          },
          "metadata": {
            "tags": [],
            "needs_background": "light"
          }
        }
      ]
    }
  ]
}