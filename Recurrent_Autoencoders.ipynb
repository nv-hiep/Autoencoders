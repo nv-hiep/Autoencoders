{
  "nbformat": 4,
  "nbformat_minor": 0,
  "metadata": {
    "colab": {
      "name": "Recurrent_Autoencoders.ipynb",
      "provenance": [],
      "collapsed_sections": [],
      "authorship_tag": "ABX9TyP99DYMkSc/pUWjdZPF4q46",
      "include_colab_link": true
    },
    "kernelspec": {
      "name": "python3",
      "display_name": "Python 3"
    },
    "language_info": {
      "name": "python"
    },
    "accelerator": "GPU"
  },
  "cells": [
    {
      "cell_type": "markdown",
      "metadata": {
        "id": "view-in-github",
        "colab_type": "text"
      },
      "source": [
        "<a href=\"https://colab.research.google.com/github/nv-hiep/Autoencoders/blob/main/Recurrent_Autoencoders.ipynb\" target=\"_parent\"><img src=\"https://colab.research.google.com/assets/colab-badge.svg\" alt=\"Open In Colab\"/></a>"
      ]
    },
    {
      "cell_type": "code",
      "metadata": {
        "id": "iETpoKTkId7D"
      },
      "source": [
        "# Python ≥3.5 is required\n",
        "import sys\n",
        "assert sys.version_info >= (3, 5)\n",
        "\n",
        "# Is this notebook running on Colab or Kaggle?\n",
        "IS_COLAB = \"google.colab\" in sys.modules\n",
        "IS_KAGGLE = \"kaggle_secrets\" in sys.modules\n",
        "\n",
        "# Scikit-Learn ≥0.20 is required\n",
        "import sklearn\n",
        "assert sklearn.__version__ >= \"0.20\"\n",
        "\n",
        "# TensorFlow ≥2.0 is required\n",
        "import tensorflow as tf\n",
        "from tensorflow import keras\n",
        "assert tf.__version__ >= \"2.0\"\n",
        "\n",
        "if not tf.config.list_physical_devices('GPU'):\n",
        "    print(\"No GPU was detected. LSTMs and CNNs can be very slow without a GPU.\")\n",
        "    if IS_COLAB:\n",
        "        print(\"Go to Runtime > Change runtime and select a GPU hardware accelerator.\")\n",
        "    if IS_KAGGLE:\n",
        "        print(\"Go to Settings > Accelerator and select GPU.\")\n",
        "\n",
        "# Common imports\n",
        "import numpy as np\n",
        "import os\n",
        "\n",
        "# to make this notebook's output stable across runs\n",
        "np.random.seed(42)\n",
        "tf.random.set_seed(42)\n",
        "\n",
        "# To plot pretty figures\n",
        "%matplotlib inline\n",
        "import matplotlib as mpl\n",
        "import matplotlib.pyplot as plt\n",
        "mpl.rc('axes', labelsize=14)\n",
        "mpl.rc('xtick', labelsize=12)\n",
        "mpl.rc('ytick', labelsize=12)"
      ],
      "execution_count": null,
      "outputs": []
    },
    {
      "cell_type": "code",
      "metadata": {
        "id": "9zlxyLjbLRj-"
      },
      "source": [
        "import matplotlib.pyplot as plt\n",
        "from mpl_toolkits.mplot3d import Axes3D"
      ],
      "execution_count": null,
      "outputs": []
    },
    {
      "cell_type": "code",
      "metadata": {
        "id": "aKDujrveSYik"
      },
      "source": [
        "from keras.models import Sequential, Model\n",
        "from keras.layers import Flatten, Dense, Reshape, Input\n",
        "from keras.optimizers import SGD\n",
        "from keras.layers import Conv2D, MaxPool2D, Conv2DTranspose, Dropout, ActivityRegularization\n",
        "from keras.layers import LSTM, RepeatVector, TimeDistributed, GaussianNoise"
      ],
      "execution_count": null,
      "outputs": []
    },
    {
      "cell_type": "code",
      "metadata": {
        "id": "VGuMNV-4JX5y"
      },
      "source": [
        "def plot_image(image):\n",
        "    plt.imshow(image, cmap='binary')\n",
        "    # plt.axis('off')"
      ],
      "execution_count": null,
      "outputs": []
    },
    {
      "cell_type": "markdown",
      "metadata": {
        "id": "ykZZwOPOJeBY"
      },
      "source": [
        "# Data"
      ]
    },
    {
      "cell_type": "code",
      "metadata": {
        "id": "FPDbuIxMUo8o",
        "colab": {
          "base_uri": "https://localhost:8080/"
        },
        "outputId": "be4dc3e4-ab68-49c9-8972-d531696bc87d"
      },
      "source": [
        "(X_train_full, y_train_full), (X_test, y_test) = keras.datasets.fashion_mnist.load_data()"
      ],
      "execution_count": null,
      "outputs": [
        {
          "output_type": "stream",
          "text": [
            "Downloading data from https://storage.googleapis.com/tensorflow/tf-keras-datasets/train-labels-idx1-ubyte.gz\n",
            "32768/29515 [=================================] - 0s 0us/step\n",
            "Downloading data from https://storage.googleapis.com/tensorflow/tf-keras-datasets/train-images-idx3-ubyte.gz\n",
            "26427392/26421880 [==============================] - 0s 0us/step\n",
            "Downloading data from https://storage.googleapis.com/tensorflow/tf-keras-datasets/t10k-labels-idx1-ubyte.gz\n",
            "8192/5148 [===============================================] - 0s 0us/step\n",
            "Downloading data from https://storage.googleapis.com/tensorflow/tf-keras-datasets/t10k-images-idx3-ubyte.gz\n",
            "4423680/4422102 [==============================] - 0s 0us/step\n"
          ],
          "name": "stdout"
        }
      ]
    },
    {
      "cell_type": "code",
      "metadata": {
        "id": "Y1JnhrR6WdXy"
      },
      "source": [
        "X_train_full = X_train_full / 255.\n",
        "X_test       = X_test / 255."
      ],
      "execution_count": null,
      "outputs": []
    },
    {
      "cell_type": "code",
      "metadata": {
        "colab": {
          "base_uri": "https://localhost:8080/"
        },
        "id": "BtYhmj_4U2oG",
        "outputId": "4af94d65-eb10-4c29-fbe2-58538f07c51c"
      },
      "source": [
        "print('X_train_full.shape: ', X_train_full.shape)\n",
        "print('y_train_full.shape: ', y_train_full.shape)\n",
        "print('X_test.shape: ', X_test.shape)\n",
        "print('y_test.shape: ', y_test.shape)"
      ],
      "execution_count": null,
      "outputs": [
        {
          "output_type": "stream",
          "text": [
            "X_train_full.shape:  (60000, 28, 28)\n",
            "y_train_full.shape:  (60000,)\n",
            "X_test.shape:  (10000, 28, 28)\n",
            "y_test.shape:  (10000,)\n"
          ],
          "name": "stdout"
        }
      ]
    },
    {
      "cell_type": "code",
      "metadata": {
        "id": "VOBzQwmIU0EN"
      },
      "source": [
        "train_size = 50_000"
      ],
      "execution_count": null,
      "outputs": []
    },
    {
      "cell_type": "code",
      "metadata": {
        "colab": {
          "base_uri": "https://localhost:8080/"
        },
        "id": "OFAHqEoCVbta",
        "outputId": "8ff04d8b-614b-4459-f1c8-3f80261fe429"
      },
      "source": [
        "X_train = X_train_full[:train_size]\n",
        "X_valid = X_train_full[train_size:]\n",
        "\n",
        "y_train = y_train_full[:train_size]\n",
        "y_valid = y_train_full[train_size:]\n",
        "\n",
        "print('X_train.shape: ', X_train.shape)\n",
        "print('y_train.shape: ', y_train.shape)\n",
        "print('X_valid.shape: ', X_valid.shape)\n",
        "print('y_valid.shape: ', y_valid.shape)"
      ],
      "execution_count": null,
      "outputs": [
        {
          "output_type": "stream",
          "text": [
            "X_train.shape:  (50000, 28, 28)\n",
            "y_train.shape:  (50000,)\n",
            "X_valid.shape:  (10000, 28, 28)\n",
            "y_valid.shape:  (10000,)\n"
          ],
          "name": "stdout"
        }
      ]
    },
    {
      "cell_type": "code",
      "metadata": {
        "id": "Lo3jDW83cJbd"
      },
      "source": [
        "def show_reconstructions(model, images=X_test, n_images=5):\n",
        "  '''\n",
        "  First row: real images\n",
        "  Second row: reconstructed images\n",
        "  '''\n",
        "  reconstructions = model.predict(images[:n_images])\n",
        "\n",
        "  plt.figure(figsize=(n_images * 1.5, 3))\n",
        "  # plt.title('Image reconstruction from Stacked Autoencoder')\n",
        "  for img_id in range(n_images):\n",
        "    plt.subplot(2, n_images, 1 + img_id)\n",
        "    plot_image(images[img_id])\n",
        "    plt.subplot(2, n_images, 1 + n_images + img_id)\n",
        "    plot_image(reconstructions[img_id])\n",
        "  plt.show()"
      ],
      "execution_count": null,
      "outputs": []
    },
    {
      "cell_type": "markdown",
      "metadata": {
        "id": "4HuqViA6lHqs"
      },
      "source": [
        "# Recurrent Autoencoders"
      ]
    },
    {
      "cell_type": "markdown",
      "metadata": {
        "id": "Q5oe1d-olLm1"
      },
      "source": [
        "If you want to build an autoencoder for sequences, such as time series or text (e.g., for unsupervised learning or dimensionality reduction), then recurrent neural networks (RNN) may be better suited than dense networks. Building a recurrent autoencoder is straightforward: the encoder is typically a sequence-to-vector RNN which compresses the input sequence down to a single vector. The decoder is a vector-to-sequence RNN that does the reverse."
      ]
    },
    {
      "cell_type": "code",
      "metadata": {
        "id": "QZw1_mSqlbSw"
      },
      "source": [
        "# Encoder: a sequence-to-vector RNN which compresses the input sequence down to a single vector\n",
        "recurrent_encoder = Sequential()\n",
        "recurrent_encoder.add( LSTM(100, return_sequences=True, input_shape=[28,28]) )\n",
        "recurrent_encoder.add( LSTM(30) )\n",
        "\n",
        "# Decoder: vector-to-sequence RNN\n",
        "recurrent_decoder = keras.models.Sequential()\n",
        "recurrent_decoder.add( RepeatVector(28, input_shape=[30]) ) # to the shape: (None, 28, 30) \n",
        "recurrent_decoder.add( LSTM(100, return_sequences=True) )\n",
        "recurrent_decoder.add( TimeDistributed(Dense(28, activation='sigmoid')) )\n",
        "\n",
        "recurrent_autoencoder = Sequential([recurrent_encoder, recurrent_decoder])\n",
        "recurrent_autoencoder.compile(loss='binary_crossentropy', optimizer=keras.optimizers.SGD(0.1), metrics=['binary_accuracy'])"
      ],
      "execution_count": null,
      "outputs": []
    },
    {
      "cell_type": "code",
      "metadata": {
        "colab": {
          "base_uri": "https://localhost:8080/"
        },
        "id": "_znQOZ_Jmz8J",
        "outputId": "6784aef4-aa8e-47a0-f229-3b9229b6025c"
      },
      "source": [
        "recurrent_encoder.summary()"
      ],
      "execution_count": null,
      "outputs": [
        {
          "output_type": "stream",
          "text": [
            "Model: \"sequential_29\"\n",
            "_________________________________________________________________\n",
            "Layer (type)                 Output Shape              Param #   \n",
            "=================================================================\n",
            "lstm_5 (LSTM)                (None, 28, 100)           51600     \n",
            "_________________________________________________________________\n",
            "lstm_6 (LSTM)                (None, 30)                15720     \n",
            "=================================================================\n",
            "Total params: 67,320\n",
            "Trainable params: 67,320\n",
            "Non-trainable params: 0\n",
            "_________________________________________________________________\n"
          ],
          "name": "stdout"
        }
      ]
    },
    {
      "cell_type": "code",
      "metadata": {
        "colab": {
          "base_uri": "https://localhost:8080/"
        },
        "id": "znZrhK33m3cA",
        "outputId": "dd2dc29c-e476-4af5-9ae3-c0bef5e62481"
      },
      "source": [
        "recurrent_decoder.summary()"
      ],
      "execution_count": null,
      "outputs": [
        {
          "output_type": "stream",
          "text": [
            "Model: \"sequential_2\"\n",
            "_________________________________________________________________\n",
            "Layer (type)                 Output Shape              Param #   \n",
            "=================================================================\n",
            "module_wrapper_3 (ModuleWrap (None, 28, 30)            0         \n",
            "_________________________________________________________________\n",
            "module_wrapper_4 (ModuleWrap (None, 28, 100)           52400     \n",
            "_________________________________________________________________\n",
            "module_wrapper_5 (ModuleWrap (None, 28, 28)            2828      \n",
            "=================================================================\n",
            "Total params: 55,228\n",
            "Trainable params: 55,228\n",
            "Non-trainable params: 0\n",
            "_________________________________________________________________\n"
          ],
          "name": "stdout"
        }
      ]
    },
    {
      "cell_type": "code",
      "metadata": {
        "colab": {
          "base_uri": "https://localhost:8080/"
        },
        "id": "PcCMr9yIm5Wa",
        "outputId": "1df5df5b-bf27-476b-fa6a-dc54ae00e724"
      },
      "source": [
        "recurrent_autoencoder.summary()"
      ],
      "execution_count": null,
      "outputs": [
        {
          "output_type": "stream",
          "text": [
            "Model: \"sequential_30\"\n",
            "_________________________________________________________________\n",
            "Layer (type)                 Output Shape              Param #   \n",
            "=================================================================\n",
            "sequential_29 (Sequential)   (None, 30)                67320     \n",
            "_________________________________________________________________\n",
            "module_wrapper_1 (ModuleWrap (None, 28, 28)            55228     \n",
            "=================================================================\n",
            "Total params: 122,548\n",
            "Trainable params: 122,548\n",
            "Non-trainable params: 0\n",
            "_________________________________________________________________\n"
          ],
          "name": "stdout"
        }
      ]
    },
    {
      "cell_type": "code",
      "metadata": {
        "colab": {
          "base_uri": "https://localhost:8080/"
        },
        "id": "0bqmaYkVm-dR",
        "outputId": "0faddf16-8454-49a4-9013-8cc57349e019"
      },
      "source": [
        "history = recurrent_autoencoder.fit(X_train, X_train, epochs=10, validation_data=(X_valid, X_valid))"
      ],
      "execution_count": null,
      "outputs": [
        {
          "output_type": "stream",
          "text": [
            "Epoch 1/10\n",
            "1563/1563 [==============================] - 22s 9ms/step - loss: 0.5623 - binary_accuracy: 0.4669 - val_loss: 0.4449 - val_binary_accuracy: 0.4900\n",
            "Epoch 2/10\n",
            "1563/1563 [==============================] - 13s 8ms/step - loss: 0.4243 - binary_accuracy: 0.4934 - val_loss: 0.3769 - val_binary_accuracy: 0.4924\n",
            "Epoch 3/10\n",
            "1563/1563 [==============================] - 13s 8ms/step - loss: 0.3703 - binary_accuracy: 0.4985 - val_loss: 0.3600 - val_binary_accuracy: 0.4952\n",
            "Epoch 4/10\n",
            "1563/1563 [==============================] - 13s 8ms/step - loss: 0.3558 - binary_accuracy: 0.4993 - val_loss: 0.3501 - val_binary_accuracy: 0.4970\n",
            "Epoch 5/10\n",
            "1563/1563 [==============================] - 13s 9ms/step - loss: 0.3483 - binary_accuracy: 0.4990 - val_loss: 0.3481 - val_binary_accuracy: 0.4923\n",
            "Epoch 6/10\n",
            "1563/1563 [==============================] - 13s 8ms/step - loss: 0.3395 - binary_accuracy: 0.5005 - val_loss: 0.3384 - val_binary_accuracy: 0.4999\n",
            "Epoch 7/10\n",
            "1563/1563 [==============================] - 13s 9ms/step - loss: 0.3323 - binary_accuracy: 0.5019 - val_loss: 0.3423 - val_binary_accuracy: 0.4986\n",
            "Epoch 8/10\n",
            "1563/1563 [==============================] - 13s 9ms/step - loss: 0.3291 - binary_accuracy: 0.5006 - val_loss: 0.3259 - val_binary_accuracy: 0.4995\n",
            "Epoch 9/10\n",
            "1563/1563 [==============================] - 13s 8ms/step - loss: 0.3243 - binary_accuracy: 0.5030 - val_loss: 0.3287 - val_binary_accuracy: 0.4969\n",
            "Epoch 10/10\n",
            "1563/1563 [==============================] - 13s 8ms/step - loss: 0.3226 - binary_accuracy: 0.5020 - val_loss: 0.3193 - val_binary_accuracy: 0.5001\n"
          ],
          "name": "stdout"
        }
      ]
    },
    {
      "cell_type": "code",
      "metadata": {
        "colab": {
          "base_uri": "https://localhost:8080/",
          "height": 395
        },
        "id": "t4XeRN0wnbnA",
        "outputId": "b143e2ed-aa29-4da8-bfa0-8c74b9f1d746"
      },
      "source": [
        "plt.figure(figsize=(6,6))\n",
        "plt.plot(history.history['loss'], label='Loss')\n",
        "plt.plot(history.history['val_loss'], label='Val loss')\n",
        "\n",
        "plt.plot(history.history['binary_accuracy'], label='binary_accuracy')\n",
        "plt.plot(history.history['val_binary_accuracy'], label='val_binary_accuracy')\n",
        "\n",
        "plt.xlabel('Epochs')\n",
        "plt.ylabel('Losses / Binary_accuracy')\n",
        "\n",
        "plt.legend()\n",
        "plt.show()"
      ],
      "execution_count": null,
      "outputs": [
        {
          "output_type": "display_data",
          "data": {
            "image/png": "[encoded data removed]",
            "text/plain": [
              "<Figure size 432x432 with 1 Axes>"
            ]
          },
          "metadata": {
            "tags": [],
            "needs_background": "light"
          }
        }
      ]
    },
    {
      "cell_type": "code",
      "metadata": {
        "colab": {
          "base_uri": "https://localhost:8080/",
          "height": 216
        },
        "id": "NE6wDIjvoPrI",
        "outputId": "83d427d6-5dee-4d45-daa4-6f58d08de062"
      },
      "source": [
        "# Plot the reconstructed images\n",
        "show_reconstructions(recurrent_autoencoder, images=X_test)\n",
        "plt.show()"
      ],
      "execution_count": null,
      "outputs": [
        {
          "output_type": "display_data",
          "data": {
            "image/png": "[encoded data removed]",
            "text/plain": [
              "<Figure size 540x216 with 10 Axes>"
            ]
          },
          "metadata": {
            "tags": [],
            "needs_background": "light"
          }
        }
      ]
    }
  ]
}