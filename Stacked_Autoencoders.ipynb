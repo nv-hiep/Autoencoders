{
  "nbformat": 4,
  "nbformat_minor": 0,
  "metadata": {
    "colab": {
      "name": "Stacked_Autoencoders.ipynb",
      "provenance": [],
      "collapsed_sections": [],
      "authorship_tag": "ABX9TyMWA5i2bHSasjqxurv5QugW",
      "include_colab_link": true
    },
    "kernelspec": {
      "name": "python3",
      "display_name": "Python 3"
    },
    "language_info": {
      "name": "python"
    },
    "accelerator": "GPU"
  },
  "cells": [
    {
      "cell_type": "markdown",
      "metadata": {
        "id": "view-in-github",
        "colab_type": "text"
      },
      "source": [
        "<a href=\"https://colab.research.google.com/github/nv-hiep/Autoencoders/blob/main/Stacked_Autoencoders.ipynb\" target=\"_parent\"><img src=\"https://colab.research.google.com/assets/colab-badge.svg\" alt=\"Open In Colab\"/></a>"
      ]
    },
    {
      "cell_type": "code",
      "metadata": {
        "id": "iETpoKTkId7D"
      },
      "source": [
        "# Python ≥3.5 is required\n",
        "import sys\n",
        "assert sys.version_info >= (3, 5)\n",
        "\n",
        "# Is this notebook running on Colab or Kaggle?\n",
        "IS_COLAB = \"google.colab\" in sys.modules\n",
        "IS_KAGGLE = \"kaggle_secrets\" in sys.modules\n",
        "\n",
        "# Scikit-Learn ≥0.20 is required\n",
        "import sklearn\n",
        "assert sklearn.__version__ >= \"0.20\"\n",
        "\n",
        "# TensorFlow ≥2.0 is required\n",
        "import tensorflow as tf\n",
        "from tensorflow import keras\n",
        "assert tf.__version__ >= \"2.0\"\n",
        "\n",
        "if not tf.config.list_physical_devices('GPU'):\n",
        "    print(\"No GPU was detected. LSTMs and CNNs can be very slow without a GPU.\")\n",
        "    if IS_COLAB:\n",
        "        print(\"Go to Runtime > Change runtime and select a GPU hardware accelerator.\")\n",
        "    if IS_KAGGLE:\n",
        "        print(\"Go to Settings > Accelerator and select GPU.\")\n",
        "\n",
        "# Common imports\n",
        "import numpy as np\n",
        "import os\n",
        "\n",
        "# to make this notebook's output stable across runs\n",
        "np.random.seed(42)\n",
        "tf.random.set_seed(42)\n",
        "\n",
        "# To plot pretty figures\n",
        "%matplotlib inline\n",
        "import matplotlib as mpl\n",
        "import matplotlib.pyplot as plt\n",
        "mpl.rc('axes', labelsize=14)\n",
        "mpl.rc('xtick', labelsize=12)\n",
        "mpl.rc('ytick', labelsize=12)"
      ],
      "execution_count": 1,
      "outputs": []
    },
    {
      "cell_type": "code",
      "metadata": {
        "id": "9zlxyLjbLRj-"
      },
      "source": [
        "import matplotlib.pyplot as plt\n",
        "from mpl_toolkits.mplot3d import Axes3D"
      ],
      "execution_count": 2,
      "outputs": []
    },
    {
      "cell_type": "code",
      "metadata": {
        "id": "aKDujrveSYik"
      },
      "source": [
        "from keras.models import Sequential, Model\n",
        "from keras.layers import Flatten, Dense, Reshape, Input\n",
        "from keras.optimizers import SGD\n",
        "from keras.layers import Conv2D, MaxPool2D, Conv2DTranspose, Dropout, ActivityRegularization\n",
        "from keras.layers import LSTM, RepeatVector, TimeDistributed, GaussianNoise"
      ],
      "execution_count": 3,
      "outputs": []
    },
    {
      "cell_type": "code",
      "metadata": {
        "id": "F_08pBewJI2t"
      },
      "source": [
        "# Where to save the figures\n",
        "PROJECT_ROOT_DIR = '.'\n",
        "CHAPTER_ID = 'autoencoders'\n",
        "IMAGES_PATH = os.path.join(PROJECT_ROOT_DIR, 'images', CHAPTER_ID)\n",
        "os.makedirs(IMAGES_PATH, exist_ok=True)\n",
        "\n",
        "def save_fig(fig_id, tight_layout=True, fig_extension='png', resolution=300):\n",
        "    path = os.path.join(IMAGES_PATH, fig_id + '.' + fig_extension)\n",
        "    print('Saving figure', fig_id)\n",
        "    if tight_layout:\n",
        "        plt.tight_layout()\n",
        "    plt.savefig(path, format=fig_extension, dpi=resolution)"
      ],
      "execution_count": 4,
      "outputs": []
    },
    {
      "cell_type": "code",
      "metadata": {
        "id": "VGuMNV-4JX5y"
      },
      "source": [
        "def plot_image(image):\n",
        "    plt.imshow(image, cmap='binary')\n",
        "    # plt.axis('off')"
      ],
      "execution_count": 5,
      "outputs": []
    },
    {
      "cell_type": "markdown",
      "metadata": {
        "id": "ykZZwOPOJeBY"
      },
      "source": [
        "# Stacked Autoencoder"
      ]
    },
    {
      "cell_type": "code",
      "metadata": {
        "id": "FPDbuIxMUo8o",
        "colab": {
          "base_uri": "https://localhost:8080/"
        },
        "outputId": "19fe731b-3f37-4caf-ea07-8d89798e47a3"
      },
      "source": [
        "(X_train_full, y_train_full), (X_test, y_test) = keras.datasets.fashion_mnist.load_data()"
      ],
      "execution_count": 6,
      "outputs": [
        {
          "output_type": "stream",
          "text": [
            "Downloading data from https://storage.googleapis.com/tensorflow/tf-keras-datasets/train-labels-idx1-ubyte.gz\n",
            "32768/29515 [=================================] - 0s 0us/step\n",
            "Downloading data from https://storage.googleapis.com/tensorflow/tf-keras-datasets/train-images-idx3-ubyte.gz\n",
            "26427392/26421880 [==============================] - 0s 0us/step\n",
            "Downloading data from https://storage.googleapis.com/tensorflow/tf-keras-datasets/t10k-labels-idx1-ubyte.gz\n",
            "8192/5148 [===============================================] - 0s 0us/step\n",
            "Downloading data from https://storage.googleapis.com/tensorflow/tf-keras-datasets/t10k-images-idx3-ubyte.gz\n",
            "4423680/4422102 [==============================] - 0s 0us/step\n"
          ],
          "name": "stdout"
        }
      ]
    },
    {
      "cell_type": "code",
      "metadata": {
        "id": "Y1JnhrR6WdXy"
      },
      "source": [
        "X_train_full = X_train_full / 255.\n",
        "X_test       = X_test / 255."
      ],
      "execution_count": 7,
      "outputs": []
    },
    {
      "cell_type": "code",
      "metadata": {
        "colab": {
          "base_uri": "https://localhost:8080/"
        },
        "id": "BtYhmj_4U2oG",
        "outputId": "9e4811d2-b840-4497-e923-6f048c6e176c"
      },
      "source": [
        "print('X_train_full.shape: ', X_train_full.shape)\n",
        "print('y_train_full.shape: ', y_train_full.shape)\n",
        "print('X_test.shape: ', X_test.shape)\n",
        "print('y_test.shape: ', y_test.shape)"
      ],
      "execution_count": 8,
      "outputs": [
        {
          "output_type": "stream",
          "text": [
            "X_train_full.shape:  (60000, 28, 28)\n",
            "y_train_full.shape:  (60000,)\n",
            "X_test.shape:  (10000, 28, 28)\n",
            "y_test.shape:  (10000,)\n"
          ],
          "name": "stdout"
        }
      ]
    },
    {
      "cell_type": "code",
      "metadata": {
        "id": "VOBzQwmIU0EN"
      },
      "source": [
        "train_size = 50_000"
      ],
      "execution_count": 9,
      "outputs": []
    },
    {
      "cell_type": "code",
      "metadata": {
        "colab": {
          "base_uri": "https://localhost:8080/"
        },
        "id": "OFAHqEoCVbta",
        "outputId": "d94735ec-a557-4a26-b184-22ec22f390b6"
      },
      "source": [
        "X_train = X_train_full[:train_size]\n",
        "X_valid = X_train_full[train_size:]\n",
        "\n",
        "y_train = y_train_full[:train_size]\n",
        "y_valid = y_train_full[train_size:]\n",
        "\n",
        "print('X_train.shape: ', X_train.shape)\n",
        "print('y_train.shape: ', y_train.shape)\n",
        "print('X_valid.shape: ', X_valid.shape)\n",
        "print('y_valid.shape: ', y_valid.shape)"
      ],
      "execution_count": 10,
      "outputs": [
        {
          "output_type": "stream",
          "text": [
            "X_train.shape:  (50000, 28, 28)\n",
            "y_train.shape:  (50000,)\n",
            "X_valid.shape:  (10000, 28, 28)\n",
            "y_valid.shape:  (10000,)\n"
          ],
          "name": "stdout"
        }
      ]
    },
    {
      "cell_type": "markdown",
      "metadata": {
        "id": "IgymLioQWERD"
      },
      "source": [
        "Just like other neural networks we have discussed, autoencoders can have multiple hidden layers. In this case they are called stacked autoencoders (or deep autoencoders). Adding more layers helps the autoencoder learn more complex codings. That said, one must be careful not to make the autoencoder too powerful. Imagine an encoder so powerful that it just learns to map each input to a single arbitrary number (and the decoder learns the reverse mapping). Obviously such an autoencoder will reconstruct the training data perfectly, but it will not have learned any useful data representation in the process (and it is unlikely to generalize well to new instances).\n",
        "\n",
        "The architecture of a stacked autoencoder is typically symmetrical with regard to the central hidden layer (the coding layer). To put it simply, it looks like a sandwich. For example, an autoencoder for MNIST (introduced in Chapter 3) may have 784 inputs, followed by a hidden layer with 100 neurons, then a central hidden layer of 30 neurons, then another hidden layer with 100 neurons, and an output layer with 784 neurons. This stacked autoencoder is represented in Figure 17-3."
      ]
    },
    {
      "cell_type": "markdown",
      "metadata": {
        "id": "tC59aNIvS3cH"
      },
      "source": [
        "Build a stacked Autoencoder with 3 hidden layers and 1 output layer (i.e., 2 stacked Autoencoders):\n",
        "\n",
        "Output Layer (Units: 784) -> Reconstruction\n",
        "\n",
        "Hidden 3 (Units: 100)\n",
        "\n",
        "Hidden 2 (Units: 30) -> Codings\n",
        "\n",
        "Hidden 1 (Units: 100)\n",
        "\n",
        "Input Layer (Units: 784) "
      ]
    },
    {
      "cell_type": "code",
      "metadata": {
        "id": "E0bhjQX0TpRF"
      },
      "source": [
        "np.random.seed(42)\n",
        "tf.random.set_seed(42)\n",
        "\n",
        "encoder = Sequential()\n",
        "encoder.add(Flatten(input_shape=[28,28]))\n",
        "encoder.add(Dense(100, activation='selu'))\n",
        "encoder.add(Dense(30, activation='selu'))\n",
        "\n",
        "decoder = Sequential()\n",
        "decoder.add(Dense(100, activation='selu', input_shape=[30]))\n",
        "decoder.add(Dense(28*28, activation='sigmoid'))\n",
        "decoder.add(Reshape([28,28]))\n",
        "\n",
        "autoencoder = Sequential([encoder, decoder])\n",
        "autoencoder.compile(loss='binary_crossentropy', optimizer=SGD(0.15), metrics=['binary_accuracy'])"
      ],
      "execution_count": 11,
      "outputs": []
    },
    {
      "cell_type": "code",
      "metadata": {
        "colab": {
          "base_uri": "https://localhost:8080/"
        },
        "id": "P0pSO4L_y8WU",
        "outputId": "7a42dc14-4ece-4c3e-bfdd-a6cbf645939d"
      },
      "source": [
        "encoder.summary()"
      ],
      "execution_count": 16,
      "outputs": [
        {
          "output_type": "stream",
          "text": [
            "Model: \"sequential\"\n",
            "_________________________________________________________________\n",
            "Layer (type)                 Output Shape              Param #   \n",
            "=================================================================\n",
            "flatten (Flatten)            (None, 784)               0         \n",
            "_________________________________________________________________\n",
            "dense (Dense)                (None, 100)               78500     \n",
            "_________________________________________________________________\n",
            "dense_1 (Dense)              (None, 30)                3030      \n",
            "=================================================================\n",
            "Total params: 81,530\n",
            "Trainable params: 81,530\n",
            "Non-trainable params: 0\n",
            "_________________________________________________________________\n"
          ],
          "name": "stdout"
        }
      ]
    },
    {
      "cell_type": "code",
      "metadata": {
        "colab": {
          "base_uri": "https://localhost:8080/"
        },
        "id": "Km-hP3BxzABI",
        "outputId": "947cba94-8d1d-4314-c88d-419141b81c17"
      },
      "source": [
        "decoder.summary()"
      ],
      "execution_count": 17,
      "outputs": [
        {
          "output_type": "stream",
          "text": [
            "Model: \"sequential_1\"\n",
            "_________________________________________________________________\n",
            "Layer (type)                 Output Shape              Param #   \n",
            "=================================================================\n",
            "dense_2 (Dense)              (None, 100)               3100      \n",
            "_________________________________________________________________\n",
            "dense_3 (Dense)              (None, 784)               79184     \n",
            "_________________________________________________________________\n",
            "reshape (Reshape)            (None, 28, 28)            0         \n",
            "=================================================================\n",
            "Total params: 82,284\n",
            "Trainable params: 82,284\n",
            "Non-trainable params: 0\n",
            "_________________________________________________________________\n"
          ],
          "name": "stdout"
        }
      ]
    },
    {
      "cell_type": "code",
      "metadata": {
        "colab": {
          "base_uri": "https://localhost:8080/"
        },
        "id": "tl6OnTGnXXOQ",
        "outputId": "7d4e1165-6186-42c2-b490-bfdd5cc55ca1"
      },
      "source": [
        "history = autoencoder.fit(X_train, X_train, epochs=20, validation_data=(X_valid, X_valid))"
      ],
      "execution_count": 12,
      "outputs": [
        {
          "output_type": "stream",
          "text": [
            "Epoch 1/20\n",
            "1563/1563 [==============================] - 19s 3ms/step - loss: 0.5264 - binary_accuracy: 0.4442 - val_loss: 0.3708 - val_binary_accuracy: 0.4937\n",
            "Epoch 2/20\n",
            "1563/1563 [==============================] - 4s 3ms/step - loss: 0.3640 - binary_accuracy: 0.4977 - val_loss: 0.3480 - val_binary_accuracy: 0.4974\n",
            "Epoch 3/20\n",
            "1563/1563 [==============================] - 4s 3ms/step - loss: 0.3417 - binary_accuracy: 0.5019 - val_loss: 0.3321 - val_binary_accuracy: 0.5000\n",
            "Epoch 4/20\n",
            "1563/1563 [==============================] - 4s 3ms/step - loss: 0.3276 - binary_accuracy: 0.5044 - val_loss: 0.3237 - val_binary_accuracy: 0.5009\n",
            "Epoch 5/20\n",
            "1563/1563 [==============================] - 4s 3ms/step - loss: 0.3212 - binary_accuracy: 0.5039 - val_loss: 0.3191 - val_binary_accuracy: 0.5015\n",
            "Epoch 6/20\n",
            "1563/1563 [==============================] - 4s 3ms/step - loss: 0.3166 - binary_accuracy: 0.5049 - val_loss: 0.3160 - val_binary_accuracy: 0.5021\n",
            "Epoch 7/20\n",
            "1563/1563 [==============================] - 4s 3ms/step - loss: 0.3132 - binary_accuracy: 0.5059 - val_loss: 0.3139 - val_binary_accuracy: 0.5020\n",
            "Epoch 8/20\n",
            "1563/1563 [==============================] - 4s 3ms/step - loss: 0.3124 - binary_accuracy: 0.5043 - val_loss: 0.3121 - val_binary_accuracy: 0.5024\n",
            "Epoch 9/20\n",
            "1563/1563 [==============================] - 4s 3ms/step - loss: 0.3097 - binary_accuracy: 0.5064 - val_loss: 0.3107 - val_binary_accuracy: 0.5027\n",
            "Epoch 10/20\n",
            "1563/1563 [==============================] - 4s 3ms/step - loss: 0.3095 - binary_accuracy: 0.5052 - val_loss: 0.3094 - val_binary_accuracy: 0.5028\n",
            "Epoch 11/20\n",
            "1563/1563 [==============================] - 4s 3ms/step - loss: 0.3078 - binary_accuracy: 0.5056 - val_loss: 0.3082 - val_binary_accuracy: 0.5030\n",
            "Epoch 12/20\n",
            "1563/1563 [==============================] - 4s 3ms/step - loss: 0.3068 - binary_accuracy: 0.5057 - val_loss: 0.3071 - val_binary_accuracy: 0.5033\n",
            "Epoch 13/20\n",
            "1563/1563 [==============================] - 4s 3ms/step - loss: 0.3056 - binary_accuracy: 0.5060 - val_loss: 0.3062 - val_binary_accuracy: 0.5034\n",
            "Epoch 14/20\n",
            "1563/1563 [==============================] - 4s 3ms/step - loss: 0.3043 - binary_accuracy: 0.5062 - val_loss: 0.3052 - val_binary_accuracy: 0.5035\n",
            "Epoch 15/20\n",
            "1563/1563 [==============================] - 4s 3ms/step - loss: 0.3031 - binary_accuracy: 0.5070 - val_loss: 0.3045 - val_binary_accuracy: 0.5038\n",
            "Epoch 16/20\n",
            "1563/1563 [==============================] - 4s 3ms/step - loss: 0.3024 - binary_accuracy: 0.5067 - val_loss: 0.3036 - val_binary_accuracy: 0.5037\n",
            "Epoch 17/20\n",
            "1563/1563 [==============================] - 4s 3ms/step - loss: 0.3027 - binary_accuracy: 0.5054 - val_loss: 0.3029 - val_binary_accuracy: 0.5037\n",
            "Epoch 18/20\n",
            "1563/1563 [==============================] - 4s 3ms/step - loss: 0.3010 - binary_accuracy: 0.5074 - val_loss: 0.3022 - val_binary_accuracy: 0.5040\n",
            "Epoch 19/20\n",
            "1563/1563 [==============================] - 4s 3ms/step - loss: 0.3002 - binary_accuracy: 0.5075 - val_loss: 0.3016 - val_binary_accuracy: 0.5041\n",
            "Epoch 20/20\n",
            "1563/1563 [==============================] - 4s 3ms/step - loss: 0.3002 - binary_accuracy: 0.5060 - val_loss: 0.3010 - val_binary_accuracy: 0.5040\n"
          ],
          "name": "stdout"
        }
      ]
    },
    {
      "cell_type": "code",
      "metadata": {
        "colab": {
          "base_uri": "https://localhost:8080/",
          "height": 395
        },
        "id": "N-acVYgLbl5N",
        "outputId": "17a7e56b-f318-4653-aeaf-90e695153145"
      },
      "source": [
        "plt.figure(figsize=(6,6))\n",
        "plt.plot(history.history['loss'], label='Loss')\n",
        "plt.plot(history.history['val_loss'], label='Val loss')\n",
        "\n",
        "plt.plot(history.history['binary_accuracy'], label='binary_accuracy')\n",
        "plt.plot(history.history['val_binary_accuracy'], label='val_binary_accuracy')\n",
        "\n",
        "plt.xlabel('Epochs')\n",
        "plt.ylabel('Losses / Binary_accuracy')\n",
        "\n",
        "plt.legend()\n",
        "plt.show()"
      ],
      "execution_count": 13,
      "outputs": [
        {
          "output_type": "display_data",
          "data": {
            "image/png": "[encoded data removed]",
            "text/plain": [
              "<Figure size 432x432 with 1 Axes>"
            ]
          },
          "metadata": {
            "tags": [],
            "needs_background": "light"
          }
        }
      ]
    },
    {
      "cell_type": "code",
      "metadata": {
        "id": "Lo3jDW83cJbd"
      },
      "source": [
        "def show_reconstructions(model, images=X_test, n_images=5):\n",
        "  '''\n",
        "  First row: real images\n",
        "  Second row: reconstructed images\n",
        "  '''\n",
        "  reconstructions = model.predict(images[:n_images])\n",
        "\n",
        "  plt.figure(figsize=(n_images * 1.5, 3))\n",
        "  # plt.title('Image reconstruction from Stacked Autoencoder')\n",
        "  for img_id in range(n_images):\n",
        "    plt.subplot(2, n_images, 1 + img_id)\n",
        "    plot_image(images[img_id])\n",
        "    plt.subplot(2, n_images, 1 + n_images + img_id)\n",
        "    plot_image(reconstructions[img_id])\n",
        "  plt.show()"
      ],
      "execution_count": 14,
      "outputs": []
    },
    {
      "cell_type": "code",
      "metadata": {
        "colab": {
          "base_uri": "https://localhost:8080/",
          "height": 216
        },
        "id": "hiAtBVcucM7U",
        "outputId": "ba39da49-a991-47cf-baee-adbd07199c39"
      },
      "source": [
        "show_reconstructions(autoencoder, images=X_test)"
      ],
      "execution_count": 15,
      "outputs": [
        {
          "output_type": "display_data",
          "data": {
            "image/png": "[encoded data removed]",
            "text/plain": [
              "<Figure size 540x216 with 10 Axes>"
            ]
          },
          "metadata": {
            "tags": [],
            "needs_background": "light"
          }
        }
      ]
    }
  ]
}