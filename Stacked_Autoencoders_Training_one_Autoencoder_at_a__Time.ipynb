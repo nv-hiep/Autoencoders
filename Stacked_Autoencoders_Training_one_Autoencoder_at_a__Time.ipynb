{
  "nbformat": 4,
  "nbformat_minor": 0,
  "metadata": {
    "colab": {
      "name": "Stacked_Autoencoders_Training_one_Autoencoder_at_a _Time.ipynb",
      "provenance": [],
      "collapsed_sections": [],
      "authorship_tag": "ABX9TyNln9L10ecn24OC3wlx6cGZ",
      "include_colab_link": true
    },
    "kernelspec": {
      "name": "python3",
      "display_name": "Python 3"
    },
    "language_info": {
      "name": "python"
    },
    "accelerator": "GPU"
  },
  "cells": [
    {
      "cell_type": "markdown",
      "metadata": {
        "id": "view-in-github",
        "colab_type": "text"
      },
      "source": [
        "<a href=\"https://colab.research.google.com/github/nv-hiep/Autoencoders/blob/main/Stacked_Autoencoders_Training_one_Autoencoder_at_a__Time.ipynb\" target=\"_parent\"><img src=\"https://colab.research.google.com/assets/colab-badge.svg\" alt=\"Open In Colab\"/></a>"
      ]
    },
    {
      "cell_type": "code",
      "metadata": {
        "id": "iETpoKTkId7D"
      },
      "source": [
        "# Python ≥3.5 is required\n",
        "import sys\n",
        "assert sys.version_info >= (3, 5)\n",
        "\n",
        "# Is this notebook running on Colab or Kaggle?\n",
        "IS_COLAB = \"google.colab\" in sys.modules\n",
        "IS_KAGGLE = \"kaggle_secrets\" in sys.modules\n",
        "\n",
        "# Scikit-Learn ≥0.20 is required\n",
        "import sklearn\n",
        "assert sklearn.__version__ >= \"0.20\"\n",
        "\n",
        "# TensorFlow ≥2.0 is required\n",
        "import tensorflow as tf\n",
        "from tensorflow import keras\n",
        "assert tf.__version__ >= \"2.0\"\n",
        "\n",
        "if not tf.config.list_physical_devices('GPU'):\n",
        "    print(\"No GPU was detected. LSTMs and CNNs can be very slow without a GPU.\")\n",
        "    if IS_COLAB:\n",
        "        print(\"Go to Runtime > Change runtime and select a GPU hardware accelerator.\")\n",
        "    if IS_KAGGLE:\n",
        "        print(\"Go to Settings > Accelerator and select GPU.\")\n",
        "\n",
        "# Common imports\n",
        "import numpy as np\n",
        "import os\n",
        "\n",
        "# to make this notebook's output stable across runs\n",
        "np.random.seed(42)\n",
        "tf.random.set_seed(42)\n",
        "\n",
        "# To plot pretty figures\n",
        "%matplotlib inline\n",
        "import matplotlib as mpl\n",
        "import matplotlib.pyplot as plt\n",
        "from mpl_toolkits.mplot3d import Axes3D\n",
        "\n",
        "mpl.rc('axes', labelsize=14)\n",
        "mpl.rc('xtick', labelsize=12)\n",
        "mpl.rc('ytick', labelsize=12)"
      ],
      "execution_count": 1,
      "outputs": []
    },
    {
      "cell_type": "code",
      "metadata": {
        "id": "aKDujrveSYik"
      },
      "source": [
        "from keras.models import Sequential, Model\n",
        "from keras.layers import Flatten, Dense, Reshape, Input\n",
        "from keras.optimizers import SGD\n",
        "from keras.layers import Conv2D, MaxPool2D, Conv2DTranspose, Dropout, ActivityRegularization\n",
        "from keras.layers import LSTM, RepeatVector, TimeDistributed, GaussianNoise"
      ],
      "execution_count": 2,
      "outputs": []
    },
    {
      "cell_type": "code",
      "metadata": {
        "id": "VGuMNV-4JX5y"
      },
      "source": [
        "def plot_image(image):\n",
        "    plt.imshow(image, cmap='binary')\n",
        "    # plt.axis('off')"
      ],
      "execution_count": 3,
      "outputs": []
    },
    {
      "cell_type": "markdown",
      "metadata": {
        "id": "ykZZwOPOJeBY"
      },
      "source": [
        "# Data"
      ]
    },
    {
      "cell_type": "code",
      "metadata": {
        "id": "FPDbuIxMUo8o",
        "colab": {
          "base_uri": "https://localhost:8080/"
        },
        "outputId": "cd4ee4e6-3a16-4fac-ef5d-3b80b620d7fd"
      },
      "source": [
        "(X_train_full, y_train_full), (X_test, y_test) = keras.datasets.fashion_mnist.load_data()"
      ],
      "execution_count": 4,
      "outputs": [
        {
          "output_type": "stream",
          "text": [
            "Downloading data from https://storage.googleapis.com/tensorflow/tf-keras-datasets/train-labels-idx1-ubyte.gz\n",
            "32768/29515 [=================================] - 0s 0us/step\n",
            "Downloading data from https://storage.googleapis.com/tensorflow/tf-keras-datasets/train-images-idx3-ubyte.gz\n",
            "26427392/26421880 [==============================] - 0s 0us/step\n",
            "Downloading data from https://storage.googleapis.com/tensorflow/tf-keras-datasets/t10k-labels-idx1-ubyte.gz\n",
            "8192/5148 [===============================================] - 0s 0us/step\n",
            "Downloading data from https://storage.googleapis.com/tensorflow/tf-keras-datasets/t10k-images-idx3-ubyte.gz\n",
            "4423680/4422102 [==============================] - 0s 0us/step\n"
          ],
          "name": "stdout"
        }
      ]
    },
    {
      "cell_type": "code",
      "metadata": {
        "id": "Y1JnhrR6WdXy"
      },
      "source": [
        "X_train_full = X_train_full / 255.\n",
        "X_test       = X_test / 255."
      ],
      "execution_count": 5,
      "outputs": []
    },
    {
      "cell_type": "code",
      "metadata": {
        "colab": {
          "base_uri": "https://localhost:8080/"
        },
        "id": "BtYhmj_4U2oG",
        "outputId": "42bce69b-dda7-495d-e764-090f23f1850d"
      },
      "source": [
        "print('X_train_full.shape: ', X_train_full.shape)\n",
        "print('y_train_full.shape: ', y_train_full.shape)\n",
        "print('X_test.shape: ', X_test.shape)\n",
        "print('y_test.shape: ', y_test.shape)"
      ],
      "execution_count": 6,
      "outputs": [
        {
          "output_type": "stream",
          "text": [
            "X_train_full.shape:  (60000, 28, 28)\n",
            "y_train_full.shape:  (60000,)\n",
            "X_test.shape:  (10000, 28, 28)\n",
            "y_test.shape:  (10000,)\n"
          ],
          "name": "stdout"
        }
      ]
    },
    {
      "cell_type": "code",
      "metadata": {
        "id": "VOBzQwmIU0EN"
      },
      "source": [
        "train_size = 50_000"
      ],
      "execution_count": 7,
      "outputs": []
    },
    {
      "cell_type": "code",
      "metadata": {
        "colab": {
          "base_uri": "https://localhost:8080/"
        },
        "id": "OFAHqEoCVbta",
        "outputId": "ab851447-a72e-4f9e-fcd2-77ae20785cad"
      },
      "source": [
        "X_train = X_train_full[:train_size]\n",
        "X_valid = X_train_full[train_size:]\n",
        "\n",
        "y_train = y_train_full[:train_size]\n",
        "y_valid = y_train_full[train_size:]\n",
        "\n",
        "print('X_train.shape: ', X_train.shape)\n",
        "print('y_train.shape: ', y_train.shape)\n",
        "print('X_valid.shape: ', X_valid.shape)\n",
        "print('y_valid.shape: ', y_valid.shape)"
      ],
      "execution_count": 8,
      "outputs": [
        {
          "output_type": "stream",
          "text": [
            "X_train.shape:  (50000, 28, 28)\n",
            "y_train.shape:  (50000,)\n",
            "X_valid.shape:  (10000, 28, 28)\n",
            "y_valid.shape:  (10000,)\n"
          ],
          "name": "stdout"
        }
      ]
    },
    {
      "cell_type": "code",
      "metadata": {
        "id": "Lo3jDW83cJbd"
      },
      "source": [
        "def show_reconstructions(model, images=X_test, n_images=5):\n",
        "  '''\n",
        "  First row: real images\n",
        "  Second row: reconstructed images\n",
        "  '''\n",
        "  reconstructions = model.predict(images[:n_images])\n",
        "\n",
        "  plt.figure(figsize=(n_images * 1.5, 3))\n",
        "  for img_id in range(n_images):\n",
        "    plt.subplot(2, n_images, 1 + img_id)\n",
        "    plot_image(images[img_id])\n",
        "    plt.subplot(2, n_images, 1 + n_images + img_id)\n",
        "    plot_image(reconstructions[img_id])\n",
        "  plt.show()"
      ],
      "execution_count": 9,
      "outputs": []
    },
    {
      "cell_type": "markdown",
      "metadata": {
        "id": "vdUw82AsVMkP"
      },
      "source": [
        "# Training one Autoencoder at a Time"
      ]
    },
    {
      "cell_type": "markdown",
      "metadata": {
        "id": "W7M-H1o3WecL"
      },
      "source": [
        "It is possible to train one shallow autoencoder at a time, then stack all of them into a single stacked autoencoder.\n",
        "\n",
        "During the first phase of training, the first autoencoder learns to reconstruct the inputs. Then we encode the whole training set using this first autoencoder, and this gives us a new (compressed) training set. We then train a second autoencoder on this new dataset. This is the second phase of training. Finally, we build a big sandwich using all these autoencoders"
      ]
    },
    {
      "cell_type": "code",
      "metadata": {
        "id": "l-xae1LTXnRQ"
      },
      "source": [
        "def train_autoencoder(n_neurons, X_train, X_valid,\n",
        "                      loss_fcn, optimizer, n_epochs=10,\n",
        "                      output_activation=None, metrics=None):\n",
        "  \n",
        "  n_inputs = X_train.shape[-1]\n",
        "\n",
        "  encoder = Sequential()\n",
        "  encoder.add( Dense(n_neurons, activation='selu', input_shape=[n_inputs]) )\n",
        "  \n",
        "  decoder = Sequential()\n",
        "  decoder.add( Dense(n_inputs, activation=output_activation) )\n",
        "  \n",
        "  autoencoder = Sequential([encoder, decoder])\n",
        "\n",
        "  autoencoder.compile(optimizer=optimizer, loss=loss_fcn, metrics=metrics)\n",
        "  autoencoder.fit(X_train, X_train, epochs=n_epochs, validation_data=(X_valid, X_valid))\n",
        "\n",
        "  return encoder, decoder, encoder(X_train), encoder(X_valid)"
      ],
      "execution_count": 10,
      "outputs": []
    },
    {
      "cell_type": "code",
      "metadata": {
        "colab": {
          "base_uri": "https://localhost:8080/"
        },
        "id": "zjPjXlYrc6wX",
        "outputId": "8e5174d4-b59e-4a59-8944-896bf597a41b"
      },
      "source": [
        "tf.random.set_seed(42)\n",
        "np.random.seed(42)\n",
        "\n",
        "K = keras.backend\n",
        "X_train_flat = K.batch_flatten(X_train) # equivalent to .reshape(-1, 28 * 28)\n",
        "X_valid_flat = K.batch_flatten(X_valid)\n",
        "\n",
        "enc1, dec1, X_train_enc1, X_valid_enc1 = train_autoencoder(100,\n",
        "                                                           X_train_flat,\n",
        "                                                           X_valid_flat,\n",
        "                                                           'binary_crossentropy',\n",
        "                                                           SGD(learning_rate=1.5),\n",
        "                                                           output_activation='sigmoid',\n",
        "                                                           metrics=['binary_accuracy'])\n",
        "\n",
        "enc2, dec2, _, _ = train_autoencoder(30,\n",
        "                                     X_train_enc1,\n",
        "                                     X_valid_enc1,\n",
        "                                     'mse',\n",
        "                                     SGD(learning_rate=0.05),\n",
        "                                     output_activation='selu')"
      ],
      "execution_count": 11,
      "outputs": [
        {
          "output_type": "stream",
          "text": [
            "Epoch 1/10\n",
            "1563/1563 [==============================] - 18s 3ms/step - loss: 0.4007 - binary_accuracy: 0.4881 - val_loss: 0.3132 - val_binary_accuracy: 0.5032\n",
            "Epoch 2/10\n",
            "1563/1563 [==============================] - 4s 3ms/step - loss: 0.3082 - binary_accuracy: 0.5071 - val_loss: 0.3018 - val_binary_accuracy: 0.5046\n",
            "Epoch 3/10\n",
            "1563/1563 [==============================] - 4s 3ms/step - loss: 0.2980 - binary_accuracy: 0.5084 - val_loss: 0.2947 - val_binary_accuracy: 0.5054\n",
            "Epoch 4/10\n",
            "1563/1563 [==============================] - 4s 3ms/step - loss: 0.2913 - binary_accuracy: 0.5095 - val_loss: 0.2899 - val_binary_accuracy: 0.5058\n",
            "Epoch 5/10\n",
            "1563/1563 [==============================] - 4s 3ms/step - loss: 0.2877 - binary_accuracy: 0.5088 - val_loss: 0.2866 - val_binary_accuracy: 0.5061\n",
            "Epoch 6/10\n",
            "1563/1563 [==============================] - 4s 3ms/step - loss: 0.2843 - binary_accuracy: 0.5095 - val_loss: 0.2843 - val_binary_accuracy: 0.5063\n",
            "Epoch 7/10\n",
            "1563/1563 [==============================] - 4s 3ms/step - loss: 0.2816 - binary_accuracy: 0.5101 - val_loss: 0.2824 - val_binary_accuracy: 0.5064\n",
            "Epoch 8/10\n",
            "1563/1563 [==============================] - 4s 3ms/step - loss: 0.2809 - binary_accuracy: 0.5084 - val_loss: 0.2810 - val_binary_accuracy: 0.5065\n",
            "Epoch 9/10\n",
            "1563/1563 [==============================] - 4s 3ms/step - loss: 0.2785 - binary_accuracy: 0.5104 - val_loss: 0.2797 - val_binary_accuracy: 0.5066\n",
            "Epoch 10/10\n",
            "1563/1563 [==============================] - 4s 3ms/step - loss: 0.2786 - binary_accuracy: 0.5091 - val_loss: 0.2788 - val_binary_accuracy: 0.5067\n",
            "Epoch 1/10\n",
            "1563/1563 [==============================] - 4s 2ms/step - loss: 1.1233 - val_loss: 0.3018\n",
            "Epoch 2/10\n",
            "1563/1563 [==============================] - 3s 2ms/step - loss: 0.2700 - val_loss: 0.2324\n",
            "Epoch 3/10\n",
            "1563/1563 [==============================] - 3s 2ms/step - loss: 0.2309 - val_loss: 0.2161\n",
            "Epoch 4/10\n",
            "1563/1563 [==============================] - 3s 2ms/step - loss: 0.2119 - val_loss: 0.2345\n",
            "Epoch 5/10\n",
            "1563/1563 [==============================] - 3s 2ms/step - loss: 0.1986 - val_loss: 0.1966\n",
            "Epoch 6/10\n",
            "1563/1563 [==============================] - 3s 2ms/step - loss: 0.1891 - val_loss: 0.1893\n",
            "Epoch 7/10\n",
            "1563/1563 [==============================] - 3s 2ms/step - loss: 0.1830 - val_loss: 0.1956\n",
            "Epoch 8/10\n",
            "1563/1563 [==============================] - 3s 2ms/step - loss: 0.1816 - val_loss: 0.1814\n",
            "Epoch 9/10\n",
            "1563/1563 [==============================] - 3s 2ms/step - loss: 0.1733 - val_loss: 0.1710\n",
            "Epoch 10/10\n",
            "1563/1563 [==============================] - 3s 2ms/step - loss: 0.1664 - val_loss: 0.1646\n"
          ],
          "name": "stdout"
        }
      ]
    },
    {
      "cell_type": "markdown",
      "metadata": {
        "id": "_cTxu04Qd8BV"
      },
      "source": [
        "Stack All the autoencoders"
      ]
    },
    {
      "cell_type": "code",
      "metadata": {
        "id": "t42iywcxd7Uy"
      },
      "source": [
        "stacked_autoencoder = Sequential([\n",
        "                                Flatten(input_shape=[28, 28]),\n",
        "                                enc1, enc2,\n",
        "                                dec2, dec1,\n",
        "                                Reshape([28, 28])\n",
        "                                ])"
      ],
      "execution_count": 12,
      "outputs": []
    },
    {
      "cell_type": "code",
      "metadata": {
        "colab": {
          "base_uri": "https://localhost:8080/",
          "height": 216
        },
        "id": "Hwh0tjKneahI",
        "outputId": "b542fc50-a4ac-4657-fad5-db68afc20c36"
      },
      "source": [
        "# Plot the reconstructed images\n",
        "show_reconstructions(stacked_autoencoder, images=X_test)\n",
        "plt.show()"
      ],
      "execution_count": 13,
      "outputs": [
        {
          "output_type": "display_data",
          "data": {
            "image/png": "[encoded data removed]",
            "text/plain": [
              "<Figure size 540x216 with 10 Axes>"
            ]
          },
          "metadata": {
            "tags": [],
            "needs_background": "light"
          }
        }
      ]
    }
  ]
}